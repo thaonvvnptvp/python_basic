{
 "cells": [
  {
   "cell_type": "code",
   "execution_count": 2,
   "id": "1bfa529a",
   "metadata": {},
   "outputs": [
    {
     "name": "stdout",
     "output_type": "stream",
     "text": [
      "0.8107793896865191\n"
     ]
    }
   ],
   "source": [
    "#đồng xu\n",
    "import random\n",
    "total_flips = 0\n",
    "num_tails = 0\n",
    "num_heads = 0\n",
    "for _ in range(1000):\n",
    "  n = random.random()\n",
    "  if n < 0.5:\n",
    "      num_tails = num_tails + 1\n",
    "  else:\n",
    "      num_heads = num_heads + 1\n",
    "\n",
    "  total_flips = total_flips + 1\n",
    "print(n)"
   ]
  },
  {
   "cell_type": "code",
   "execution_count": 3,
   "id": "2f46911c",
   "metadata": {},
   "outputs": [
    {
     "name": "stdout",
     "output_type": "stream",
     "text": [
      "0.4\n",
      "0.8\n",
      "1.2\n",
      "1.6\n",
      "2.0\n",
      "2.0\n",
      "2.0\n",
      "2.4\n",
      "2.8\n",
      "3.2\n"
     ]
    }
   ],
   "source": [
    "#Pi\n",
    "import random\n",
    "import math\n",
    "\n",
    "N = 10\n",
    "N_T = 0\n",
    "\n",
    "for i in range(N):\n",
    "  x = random.random()*2 - 1\n",
    "  y = random.random()*2 - 1\n",
    "\n",
    "  x2 = x**2\n",
    "  y2 = y**2\n",
    "\n",
    "  if math.sqrt (x2 + y2) <= 1.0:\n",
    "    N_T = N_T + 1\n",
    "\n",
    "  pi = (N_T / N) * 4\n",
    "  print(pi)"
   ]
  },
  {
   "cell_type": "code",
   "execution_count": 4,
   "id": "598c0c48",
   "metadata": {},
   "outputs": [
    {
     "name": "stdout",
     "output_type": "stream",
     "text": [
      "2.7182818011463845\n"
     ]
    }
   ],
   "source": [
    "#example - euler's number\n",
    "def factorial (n):\n",
    "  result = 1\n",
    "\n",
    "  for i in range(2, n+1):\n",
    "    result = result*i\n",
    "  return result\n",
    "\n",
    "def estimate_e(n):\n",
    "  result = 1\n",
    "\n",
    "  for i in range(1,n+1):\n",
    "    result = result + 1/factorial(i)\n",
    "  \n",
    "  return result\n",
    "\n",
    "print(estimate_e(10))"
   ]
  },
  {
   "cell_type": "code",
   "execution_count": 5,
   "id": "c3b20714",
   "metadata": {},
   "outputs": [
    {
     "name": "stdout",
     "output_type": "stream",
     "text": [
      "3.25\n",
      "1.5\n"
     ]
    }
   ],
   "source": [
    "#example - Compute quadratic root for the number N\n",
    "\n",
    "def computer_quadratic_root(N, num_loops):\n",
    "  x_n = N/2.0\n",
    "\n",
    "  for i in range(num_loops):\n",
    "    x_np1 = (x_n + N/x_n) / 2.0\n",
    "    v_n = x_np1\n",
    "\n",
    "  return x_np1\n",
    "\n",
    "print (computer_quadratic_root(N=9, num_loops=10))\n",
    "print (computer_quadratic_root(N=2, num_loops=10))"
   ]
  },
  {
   "cell_type": "code",
   "execution_count": 6,
   "id": "717a4167",
   "metadata": {},
   "outputs": [
    {
     "name": "stdout",
     "output_type": "stream",
     "text": [
      "0\n",
      "1\n",
      "2\n",
      "3\n",
      "4\n",
      "ket thuc\n"
     ]
    }
   ],
   "source": [
    "#while Loop\n",
    "\n",
    "i = 0\n",
    "while i <5:\n",
    "  print(i)\n",
    "  i = i+1\n",
    "print('ket thuc')"
   ]
  },
  {
   "cell_type": "code",
   "execution_count": 9,
   "id": "380ec8c8",
   "metadata": {},
   "outputs": [
    {
     "name": "stdout",
     "output_type": "stream",
     "text": [
      "so sinh ra 3\n",
      "so sinh ra 0\n",
      "so sinh ra 10\n",
      "so sinh ra 5\n",
      "ket thuc\n"
     ]
    }
   ],
   "source": [
    "#while Loop 2\n",
    "import random\n",
    "\n",
    "while True:\n",
    "  num = random.randint(0,10)\n",
    "  print('so sinh ra', num)\n",
    "  if num ==5:\n",
    "    break;\n",
    "print('ket thuc')"
   ]
  },
  {
   "cell_type": "code",
   "execution_count": null,
   "id": "4d77a923",
   "metadata": {},
   "outputs": [],
   "source": []
  }
 ],
 "metadata": {
  "kernelspec": {
   "display_name": "Python 3 (ipykernel)",
   "language": "python",
   "name": "python3"
  },
  "language_info": {
   "codemirror_mode": {
    "name": "ipython",
    "version": 3
   },
   "file_extension": ".py",
   "mimetype": "text/x-python",
   "name": "python",
   "nbconvert_exporter": "python",
   "pygments_lexer": "ipython3",
   "version": "3.9.12"
  }
 },
 "nbformat": 4,
 "nbformat_minor": 5
}
