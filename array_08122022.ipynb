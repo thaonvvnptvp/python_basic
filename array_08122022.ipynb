{
 "cells": [
  {
   "cell_type": "code",
   "execution_count": 1,
   "id": "e4fbf931",
   "metadata": {},
   "outputs": [
    {
     "name": "stdout",
     "output_type": "stream",
     "text": [
      "[[1. 1. 1.]\n",
      " [1. 1. 1.]]\n"
     ]
    }
   ],
   "source": [
    "import numpy as np\n",
    "arr = np.ones((2,3))\n",
    "print(arr)"
   ]
  },
  {
   "cell_type": "code",
   "execution_count": 2,
   "id": "5f3831d8",
   "metadata": {},
   "outputs": [
    {
     "name": "stdout",
     "output_type": "stream",
     "text": [
      "[[9 9 9]\n",
      " [9 9 9]]\n"
     ]
    }
   ],
   "source": [
    "import numpy as np\n",
    "arr = np.full((2,3),9)\n",
    "print(arr)"
   ]
  },
  {
   "cell_type": "code",
   "execution_count": 3,
   "id": "b670777e",
   "metadata": {},
   "outputs": [
    {
     "name": "stdout",
     "output_type": "stream",
     "text": [
      "[0 1 2 3 4]\n",
      "[0 2 4]\n"
     ]
    }
   ],
   "source": [
    "import numpy as np\n",
    "arr1 = np.arange(5)\n",
    "print(arr1)\n",
    "\n",
    "arr2 = np.arange(0,5,2)\n",
    "print(arr2)"
   ]
  },
  {
   "cell_type": "code",
   "execution_count": 4,
   "id": "bbd89f1c",
   "metadata": {},
   "outputs": [
    {
     "name": "stdout",
     "output_type": "stream",
     "text": [
      "[[1. 0. 0.]\n",
      " [0. 1. 0.]\n",
      " [0. 0. 1.]]\n"
     ]
    }
   ],
   "source": [
    "import numpy as np\n",
    "arr = np.eye(3)\n",
    "print(arr)"
   ]
  },
  {
   "cell_type": "code",
   "execution_count": 5,
   "id": "add93265",
   "metadata": {},
   "outputs": [
    {
     "name": "stdout",
     "output_type": "stream",
     "text": [
      "[[0.45113789 0.25170495 0.26544204]\n",
      " [0.14897089 0.93541971 0.75928076]]\n"
     ]
    }
   ],
   "source": [
    "import numpy as np\n",
    "arr = np.random.random((2,3))\n",
    "print(arr)"
   ]
  },
  {
   "cell_type": "code",
   "execution_count": 6,
   "id": "4900de7d",
   "metadata": {},
   "outputs": [
    {
     "name": "stdout",
     "output_type": "stream",
     "text": [
      "[0 1 2 3 4]\n",
      "[ True  True  True False False]\n",
      "[0 1 2 6 8]\n"
     ]
    }
   ],
   "source": [
    "import numpy as np\n",
    "arr = np.arange(5)\n",
    "print(arr)\n",
    "\n",
    "condition = arr < 3\n",
    "out = np.where(condition, arr, arr * 2)\n",
    "\n",
    "print(condition)\n",
    "print(out)"
   ]
  },
  {
   "cell_type": "code",
   "execution_count": 7,
   "id": "27ef6ef5",
   "metadata": {},
   "outputs": [
    {
     "name": "stdout",
     "output_type": "stream",
     "text": [
      "[[2 3]\n",
      " [3 4]]\n",
      "[2 3 3 4]\n"
     ]
    }
   ],
   "source": [
    "import numpy as np\n",
    "arr = np.array([[2,3], [3,4]])\n",
    "out = arr.flatten()\n",
    "print(arr)\n",
    "print(out)"
   ]
  },
  {
   "cell_type": "code",
   "execution_count": 8,
   "id": "64ed9589",
   "metadata": {},
   "outputs": [
    {
     "name": "stdout",
     "output_type": "stream",
     "text": [
      "[[1 2 3]\n",
      " [4 5 6]]\n",
      "(2, 3)\n",
      "[[1 2]\n",
      " [3 4]\n",
      " [5 6]]\n",
      "(3, 2)\n"
     ]
    }
   ],
   "source": [
    "import numpy as np\n",
    "\n",
    "l = [[1,2,3],\n",
    "     [4,5,6]]\n",
    "\n",
    "data = np.array(l)\n",
    "print(data)\n",
    "print(data.shape)\n",
    "\n",
    "data_rs = np.reshape(data, (3,2))\n",
    "print(data_rs)\n",
    "print(data_rs.shape)"
   ]
  },
  {
   "cell_type": "code",
   "execution_count": 9,
   "id": "886b5909",
   "metadata": {},
   "outputs": [
    {
     "name": "stdout",
     "output_type": "stream",
     "text": [
      "[[1 2 3]\n",
      " [5 6 7]]\n",
      "[[2 3]\n",
      " [6 7]]\n"
     ]
    }
   ],
   "source": [
    "import numpy as np\n",
    "\n",
    "a_arr = np.array([[1,2,3],\n",
    "                  [5,6,7]])\n",
    "\n",
    "b_arr = a_arr[:, 1:3]\n",
    "print(a_arr)\n",
    "print(b_arr)"
   ]
  },
  {
   "cell_type": "code",
   "execution_count": 10,
   "id": "8bcd0c52",
   "metadata": {},
   "outputs": [
    {
     "name": "stdout",
     "output_type": "stream",
     "text": [
      "[[1 2 3]\n",
      " [5 6 7]]\n",
      "[[2 3]\n",
      " [6 7]]\n",
      "2\n",
      "99\n"
     ]
    }
   ],
   "source": [
    "import numpy as np\n",
    "\n",
    "a_arr = np.array([[1,2,3],\n",
    "                  [5,6,7]])\n",
    "print(a_arr)\n",
    "\n",
    "b_arr = a_arr[:, 1:3]\n",
    "print(b_arr)\n",
    "\n",
    "print(a_arr[0,1])\n",
    "b_arr[0,0] = 99\n",
    "print(a_arr[0,1])"
   ]
  },
  {
   "cell_type": "code",
   "execution_count": 11,
   "id": "3505349e",
   "metadata": {},
   "outputs": [
    {
     "name": "stdout",
     "output_type": "stream",
     "text": [
      "[5 6 7] (3,)\n",
      "[[5 6 7]] (1, 3)\n"
     ]
    }
   ],
   "source": [
    "import numpy as np\n",
    "\n",
    "arr = np.array([[1,2,3],\n",
    "                [5,6,7],\n",
    "                [9,10,11]])\n",
    "\n",
    "row_m1 = arr[1, :]\n",
    "row_m2 = arr[1:2, :]\n",
    "\n",
    "print(row_m1, row_m1.shape)\n",
    "print(row_m2, row_m2.shape)"
   ]
  },
  {
   "cell_type": "code",
   "execution_count": 12,
   "id": "83a4721b",
   "metadata": {},
   "outputs": [
    {
     "name": "stdout",
     "output_type": "stream",
     "text": [
      "[ 2  6 10] (3,)\n",
      "[[ 2]\n",
      " [ 6]\n",
      " [10]] (3, 1)\n"
     ]
    }
   ],
   "source": [
    "import numpy as np\n",
    "\n",
    "arr = np.array([[1,2,3],\n",
    "                [5,6,7],\n",
    "                [9,10,11]])\n",
    "\n",
    "col_m1 = arr[:, 1]\n",
    "col_m2 = arr[:, 1:2]\n",
    "\n",
    "print(col_m1, col_m1.shape)\n",
    "print(col_m2, col_m2.shape)"
   ]
  },
  {
   "cell_type": "code",
   "execution_count": 13,
   "id": "65c1c72e",
   "metadata": {},
   "outputs": [
    {
     "name": "stdout",
     "output_type": "stream",
     "text": [
      "[1 6 9]\n",
      "[2 2]\n"
     ]
    }
   ],
   "source": [
    "import numpy as np\n",
    "\n",
    "arr = np.array([[1,2,3],\n",
    "                [5,6,7],\n",
    "                [9,10,11]])\n",
    "\n",
    "out1 = arr[[0,1,2],[0,1,0]]\n",
    "print(out1)\n",
    "out2 = arr [[0,0],[1,1]]\n",
    "print(out2)"
   ]
  },
  {
   "cell_type": "code",
   "execution_count": 14,
   "id": "00804cc2",
   "metadata": {},
   "outputs": [
    {
     "name": "stdout",
     "output_type": "stream",
     "text": [
      "[[ 1  2  3]\n",
      " [ 5  6  7]\n",
      " [ 9 10 11]]\n",
      "[[False False  True]\n",
      " [ True  True  True]\n",
      " [ True  True  True]]\n"
     ]
    }
   ],
   "source": [
    "import numpy as np\n",
    "\n",
    "arr = np.array([[1,2,3],\n",
    "                [5,6,7],\n",
    "                [9,10,11]])\n",
    "print(arr)\n",
    "\n",
    "bool_idx = (arr >2)\n",
    "print(bool_idx)"
   ]
  },
  {
   "cell_type": "code",
   "execution_count": 15,
   "id": "c9c279a0",
   "metadata": {},
   "outputs": [
    {
     "name": "stdout",
     "output_type": "stream",
     "text": [
      "[1 2 3 4]\n",
      "[5 6 7 8]\n",
      "[ 6  8 10 12]\n",
      "[ 6  8 10 12]\n"
     ]
    }
   ],
   "source": [
    "import numpy as np\n",
    "\n",
    "x = np.array([1,2,3,4])\n",
    "y = np.array([5,6,7,8])\n",
    "\n",
    "print(x)\n",
    "print(y)\n",
    "\n",
    "print(x+y)\n",
    "print(np.add(x,y))"
   ]
  },
  {
   "cell_type": "code",
   "execution_count": 16,
   "id": "3f35022e",
   "metadata": {},
   "outputs": [
    {
     "name": "stdout",
     "output_type": "stream",
     "text": [
      "[1 2 3 4]\n",
      "[5 6 7 8]\n",
      "[-4 -4 -4 -4]\n",
      "[-4 -4 -4 -4]\n"
     ]
    }
   ],
   "source": [
    "import numpy as np\n",
    "\n",
    "x = np.array([1,2,3,4])\n",
    "y = np.array([5,6,7,8])\n",
    "\n",
    "print(x)\n",
    "print(y)\n",
    "\n",
    "print(x-y)\n",
    "print(np.subtract(x,y))"
   ]
  },
  {
   "cell_type": "code",
   "execution_count": 17,
   "id": "5ca85117",
   "metadata": {},
   "outputs": [
    {
     "name": "stdout",
     "output_type": "stream",
     "text": [
      "[1 2 3 4]\n",
      "[5 6 7 8]\n",
      "[ 5 12 21 32]\n",
      "[ 5 12 21 32]\n"
     ]
    }
   ],
   "source": [
    "import numpy as np\n",
    "\n",
    "x = np.array([1,2,3,4])\n",
    "y = np.array([5,6,7,8])\n",
    "\n",
    "print(x)\n",
    "print(y)\n",
    "\n",
    "print(x*y)\n",
    "print(np.multiply(x,y))"
   ]
  },
  {
   "cell_type": "code",
   "execution_count": 18,
   "id": "7732c003",
   "metadata": {},
   "outputs": [
    {
     "name": "stdout",
     "output_type": "stream",
     "text": [
      "[5 6 7 8]\n",
      "[1 2 3 4]\n",
      "[5.         3.         2.33333333 2.        ]\n",
      "[5 3 2 2]\n",
      "[5.         3.         2.33333333 2.        ]\n"
     ]
    }
   ],
   "source": [
    "import numpy as np\n",
    "\n",
    "x = np.array([5,6,7,8])\n",
    "y = np.array([1,2,3,4])\n",
    "\n",
    "print(x)\n",
    "print(y)\n",
    "#chia cac tung phan tuong ung x cho y\n",
    "print(x/y)\n",
    "print(x//y)\n",
    "print(np.divide(x,y))"
   ]
  },
  {
   "cell_type": "code",
   "execution_count": 19,
   "id": "1b0d101c",
   "metadata": {},
   "outputs": [
    {
     "name": "stdout",
     "output_type": "stream",
     "text": [
      "[5 6 7 8]\n",
      "can bac 2 [2.23606798 2.44948974 2.64575131 2.82842712]\n"
     ]
    }
   ],
   "source": [
    "import numpy as np\n",
    "\n",
    "x = np.array([5,6,7,8])\n",
    "print(x)\n",
    "print('can bac 2', np.sqrt(x))"
   ]
  },
  {
   "cell_type": "code",
   "execution_count": 20,
   "id": "be3fcccb",
   "metadata": {},
   "outputs": [
    {
     "name": "stdout",
     "output_type": "stream",
     "text": [
      "8\n",
      "8\n"
     ]
    }
   ],
   "source": [
    "import numpy as np\n",
    "\n",
    "v = np.array([1,2])\n",
    "w = np.array([2,3])\n",
    "#tinh inner product\n",
    "print(v.dot(w))\n",
    "print(np.dot(v,w))"
   ]
  },
  {
   "cell_type": "code",
   "execution_count": 21,
   "id": "a721ddb1",
   "metadata": {},
   "outputs": [
    {
     "name": "stdout",
     "output_type": "stream",
     "text": [
      "[[1 2]\n",
      " [3 4]]\n",
      "[2 3]\n",
      "[ 8 18]\n",
      "[11 16]\n"
     ]
    }
   ],
   "source": [
    "import numpy as np\n",
    "v = np.array([[1,2],[3,4]])\n",
    "w = np.array([2,3])\n",
    "\n",
    "\n",
    "print(v)\n",
    "print(w)\n",
    "\n",
    "print(v.dot(w))\n",
    "print(w.dot(v))"
   ]
  },
  {
   "cell_type": "code",
   "execution_count": 22,
   "id": "8a026e6c",
   "metadata": {},
   "outputs": [
    {
     "name": "stdout",
     "output_type": "stream",
     "text": [
      "[[ 6  5]\n",
      " [14 13]]\n",
      "[[11 16]\n",
      " [ 5  8]]\n"
     ]
    }
   ],
   "source": [
    "import numpy as np\n",
    "\n",
    "x = np.array([[1,2],\n",
    "              [3,4]])\n",
    "y = np.array([[2,3],\n",
    "              [2,1]])\n",
    "\n",
    "#nhan giua 2 ma tran\n",
    "print(x.dot(y))\n",
    "print(y.dot(x))"
   ]
  },
  {
   "cell_type": "code",
   "execution_count": 23,
   "id": "56be51b0",
   "metadata": {},
   "outputs": [
    {
     "name": "stdout",
     "output_type": "stream",
     "text": [
      "[[1 2]\n",
      " [3 4]]\n",
      "[[1 3]\n",
      " [2 4]]\n"
     ]
    }
   ],
   "source": [
    "import numpy as np\n",
    "\n",
    "x = np.array([[1,2],\n",
    "              [3,4]])\n",
    "#chuyen vi\n",
    "print(x)\n",
    "print(x.T)"
   ]
  },
  {
   "cell_type": "code",
   "execution_count": 24,
   "id": "197f7a87",
   "metadata": {},
   "outputs": [
    {
     "name": "stdout",
     "output_type": "stream",
     "text": [
      "10\n",
      "[4 6]\n",
      "[3 7]\n"
     ]
    }
   ],
   "source": [
    "import numpy as np\n",
    "\n",
    "x = np.array([[1,2],\n",
    "              [3,4]])\n",
    "\n",
    "#tong cac phan tu cua mang\n",
    "print(np.sum(x))\n",
    "\n",
    "#tong tung cot\n",
    "print(np.sum(x, axis = 0))\n",
    "\n",
    "#tong tung dong\n",
    "print(np.sum(x, axis=1))"
   ]
  },
  {
   "cell_type": "code",
   "execution_count": 25,
   "id": "f6cb93c9",
   "metadata": {},
   "outputs": [
    {
     "name": "stdout",
     "output_type": "stream",
     "text": [
      "1\n",
      "3\n"
     ]
    }
   ],
   "source": [
    "import numpy as np\n",
    "\n",
    "data = np.array([1,2,3])\n",
    "\n",
    "print(data.min())\n",
    "print(data.max())"
   ]
  },
  {
   "cell_type": "code",
   "execution_count": 26,
   "id": "48d5fe2a",
   "metadata": {},
   "outputs": [
    {
     "name": "stdout",
     "output_type": "stream",
     "text": [
      "[1 2 3]\n",
      "[2 4 6]\n",
      "[-1  0  1]\n"
     ]
    }
   ],
   "source": [
    "import numpy as np\n",
    "\n",
    "data = np.array([1,2,3])\n",
    "factor = 2\n",
    "\n",
    "#broadcasting\n",
    "result_multiplication = data*factor\n",
    "result_minus = data - factor\n",
    "\n",
    "print(data)\n",
    "print(result_multiplication)\n",
    "print(result_minus)"
   ]
  },
  {
   "cell_type": "code",
   "execution_count": 27,
   "id": "22560a66",
   "metadata": {},
   "outputs": [
    {
     "name": "stdout",
     "output_type": "stream",
     "text": [
      "[[ 2  2  4]\n",
      " [ 5  5  7]\n",
      " [ 8  8 10]\n",
      " [11 11 13]]\n"
     ]
    }
   ],
   "source": [
    "import numpy as np\n",
    "\n",
    "x = np.array([[1,2,3],\n",
    "              [4,5,6],\n",
    "              [7,8,9],\n",
    "              [10,11,12]])\n",
    "v = np.array([1,0,1])\n",
    "y = x + v\n",
    "print(y)"
   ]
  },
  {
   "cell_type": "code",
   "execution_count": null,
   "id": "59f72c22",
   "metadata": {},
   "outputs": [],
   "source": []
  }
 ],
 "metadata": {
  "kernelspec": {
   "display_name": "Python 3 (ipykernel)",
   "language": "python",
   "name": "python3"
  },
  "language_info": {
   "codemirror_mode": {
    "name": "ipython",
    "version": 3
   },
   "file_extension": ".py",
   "mimetype": "text/x-python",
   "name": "python",
   "nbconvert_exporter": "python",
   "pygments_lexer": "ipython3",
   "version": "3.9.12"
  }
 },
 "nbformat": 4,
 "nbformat_minor": 5
}
